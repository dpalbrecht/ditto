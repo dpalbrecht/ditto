{
 "cells": [
  {
   "cell_type": "code",
   "execution_count": 2,
   "id": "b2b20116-9f56-4937-83c9-59e51d0ae9fe",
   "metadata": {
    "tags": []
   },
   "outputs": [],
   "source": [
    "from tracker import Tracker\n",
    "\n",
    "%load_ext autoreload\n",
    "%autoreload 2"
   ]
  },
  {
   "cell_type": "code",
   "execution_count": 4,
   "id": "4086e04f-cfb3-49f9-91bf-c11ad7c3d334",
   "metadata": {
    "tags": []
   },
   "outputs": [
    {
     "name": "stdout",
     "output_type": "stream",
     "text": [
      "Method being called: main\n",
      "Path to module it belongs to: C:\\Users\\David\\Desktop\\github\\ml-tracker\\saved_modules\\tracker\n",
      "Saving new file: 20240209034812.py\n",
      "\n",
      "Method being called: main_function\n",
      "Path to module it belongs to: C:\\Users\\David\\Desktop\\github\\ml-tracker\\saved_modules\\module1\n",
      "Created new folder for module1.py\n",
      "Saving new file: 20240209034812.py\n",
      "\n"
     ]
    }
   ],
   "source": [
    "tracker = Tracker(['module1'])\n",
    "tracker.main()"
   ]
  },
  {
   "cell_type": "code",
   "execution_count": 1,
   "id": "400f2d8e-7d06-412e-8fae-d8898d800871",
   "metadata": {},
   "outputs": [],
   "source": [
    "!rm -rf saved_modules\n",
    "!rm -rf saved_experiments"
   ]
  },
  {
   "cell_type": "code",
   "execution_count": null,
   "id": "1c25b5af-605e-49d6-89c2-10c1edd6d578",
   "metadata": {},
   "outputs": [],
   "source": []
  }
 ],
 "metadata": {
  "kernelspec": {
   "display_name": "Python 3 (ipykernel)",
   "language": "python",
   "name": "python3"
  },
  "language_info": {
   "codemirror_mode": {
    "name": "ipython",
    "version": 3
   },
   "file_extension": ".py",
   "mimetype": "text/x-python",
   "name": "python",
   "nbconvert_exporter": "python",
   "pygments_lexer": "ipython3",
   "version": "3.11.0"
  }
 },
 "nbformat": 4,
 "nbformat_minor": 5
}
