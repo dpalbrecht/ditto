{
 "cells": [
  {
   "cell_type": "code",
   "execution_count": 1,
   "id": "b2b20116-9f56-4937-83c9-59e51d0ae9fe",
   "metadata": {
    "tags": []
   },
   "outputs": [],
   "source": [
    "import controller\n",
    "\n",
    "%load_ext autoreload\n",
    "%autoreload 2"
   ]
  },
  {
   "cell_type": "code",
   "execution_count": 2,
   "id": "4086e04f-cfb3-49f9-91bf-c11ad7c3d334",
   "metadata": {
    "tags": []
   },
   "outputs": [
    {
     "name": "stdout",
     "output_type": "stream",
     "text": [
      "Function being called: controller.run\n",
      "Path to module it belongs to: C:\\Users\\David\\Desktop\\github\\ditto\\controller\n",
      "Created new folder for controller.py\n",
      "Saving new file: 20240209051546.py\n",
      "\n",
      "Function being called: get_data.run\n",
      "Path to module it belongs to: C:\\Users\\David\\Desktop\\github\\ditto\\get_data\n",
      "Created new folder for get_data.py\n",
      "Saving new file: 20240209051546.py\n",
      "\n",
      "Function being called: train_model.run\n",
      "Path to module it belongs to: C:\\Users\\David\\Desktop\\github\\ditto\\train_model\n",
      "Created new folder for train_model.py\n",
      "Saving new file: 20240209051546.py\n",
      "\n",
      "Function being called: evaluate_model.run\n",
      "Path to module it belongs to: C:\\Users\\David\\Desktop\\github\\ditto\\evaluate_model\n",
      "Created new folder for evaluate_model.py\n",
      "Saving new file: 20240209051546.py\n",
      "\n",
      "Done!\n"
     ]
    }
   ],
   "source": [
    "# Run the initial version with Linear Regression\n",
    "controller.run()"
   ]
  },
  {
   "cell_type": "code",
   "execution_count": 3,
   "id": "f3907484-2f0f-4570-9887-02b3701aa863",
   "metadata": {},
   "outputs": [
    {
     "name": "stdout",
     "output_type": "stream",
     "text": [
      "Function being called: controller.run\n",
      "Path to module it belongs to: C:\\Users\\David\\Desktop\\github\\ditto\\controller\n",
      "Reusing saved file: 20240209051546.py\n",
      "\n",
      "Function being called: get_data.run\n",
      "Path to module it belongs to: C:\\Users\\David\\Desktop\\github\\ditto\\get_data\n",
      "Reusing saved file: 20240209051546.py\n",
      "\n",
      "Function being called: train_model.run\n",
      "Path to module it belongs to: C:\\Users\\David\\Desktop\\github\\ditto\\train_model\n",
      "Saving new file: 20240209051700.py\n",
      "\n",
      "Function being called: evaluate_model.run\n",
      "Path to module it belongs to: C:\\Users\\David\\Desktop\\github\\ditto\\evaluate_model\n",
      "Saving new file: 20240209051700.py\n",
      "\n",
      "Done!\n"
     ]
    },
    {
     "name": "stderr",
     "output_type": "stream",
     "text": [
      "C:\\Users\\David\\miniconda3\\envs\\mailchimp\\Lib\\site-packages\\sklearn\\linear_model\\_logistic.py:460: ConvergenceWarning: lbfgs failed to converge (status=1):\n",
      "STOP: TOTAL NO. of ITERATIONS REACHED LIMIT.\n",
      "\n",
      "Increase the number of iterations (max_iter) or scale the data as shown in:\n",
      "    https://scikit-learn.org/stable/modules/preprocessing.html\n",
      "Please also refer to the documentation for alternative solver options:\n",
      "    https://scikit-learn.org/stable/modules/linear_model.html#logistic-regression\n",
      "  n_iter_i = _check_optimize_result(\n"
     ]
    }
   ],
   "source": [
    "# Change the train_model and evaluate modules for Logistic Regression and run again\n",
    "controller.run()"
   ]
  },
  {
   "cell_type": "code",
   "execution_count": null,
   "id": "8d5af055-5fc0-4111-ae93-c79e0cf3d4f2",
   "metadata": {},
   "outputs": [],
   "source": []
  },
  {
   "cell_type": "code",
   "execution_count": null,
   "id": "64dee748-3c0a-49ff-971b-740c2d458ba8",
   "metadata": {},
   "outputs": [],
   "source": []
  },
  {
   "cell_type": "code",
   "execution_count": null,
   "id": "b13517c1-36c1-4078-a06f-63524f839ef4",
   "metadata": {},
   "outputs": [],
   "source": []
  }
 ],
 "metadata": {
  "kernelspec": {
   "display_name": "Python 3 (ipykernel)",
   "language": "python",
   "name": "python3"
  },
  "language_info": {
   "codemirror_mode": {
    "name": "ipython",
    "version": 3
   },
   "file_extension": ".py",
   "mimetype": "text/x-python",
   "name": "python",
   "nbconvert_exporter": "python",
   "pygments_lexer": "ipython3",
   "version": "3.11.0"
  }
 },
 "nbformat": 4,
 "nbformat_minor": 5
}
