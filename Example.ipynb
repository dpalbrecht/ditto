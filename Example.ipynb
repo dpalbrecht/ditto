{
 "cells": [
  {
   "cell_type": "code",
   "execution_count": 1,
   "id": "b2b20116-9f56-4937-83c9-59e51d0ae9fe",
   "metadata": {
    "tags": []
   },
   "outputs": [],
   "source": [
    "import controller\n",
    "\n",
    "%load_ext autoreload\n",
    "%autoreload 2"
   ]
  },
  {
   "cell_type": "code",
   "execution_count": 2,
   "id": "4086e04f-cfb3-49f9-91bf-c11ad7c3d334",
   "metadata": {
    "tags": []
   },
   "outputs": [
    {
     "name": "stdout",
     "output_type": "stream",
     "text": [
      "Function being called: run\n",
      "Path to module it belongs to: C:\\Users\\David\\Desktop\\github\\ditto\\saved_modules\\controller\n",
      "Created new folder for controller.py\n",
      "Saving new file: 20240209045846.py\n",
      "\n",
      "Function being called: run\n",
      "Path to module it belongs to: C:\\Users\\David\\Desktop\\github\\ditto\\saved_modules\\get_data\n",
      "Created new folder for get_data.py\n",
      "Saving new file: 20240209045846.py\n",
      "\n",
      "Function being called: run\n",
      "Path to module it belongs to: C:\\Users\\David\\Desktop\\github\\ditto\\saved_modules\\train_model\n",
      "Created new folder for train_model.py\n",
      "Saving new file: 20240209045846.py\n",
      "\n",
      "Function being called: run\n",
      "Path to module it belongs to: C:\\Users\\David\\Desktop\\github\\ditto\\saved_modules\\evaluate_model\n",
      "Created new folder for evaluate_model.py\n",
      "Saving new file: 20240209045846.py\n",
      "\n",
      "Done!\n"
     ]
    }
   ],
   "source": [
    "# Run the initial version with Linear Regression\n",
    "controller.run()"
   ]
  },
  {
   "cell_type": "code",
   "execution_count": 3,
   "id": "15287e9f-93f7-4254-9777-d79972a215df",
   "metadata": {
    "tags": []
   },
   "outputs": [
    {
     "name": "stdout",
     "output_type": "stream",
     "text": [
      "Function being called: run\n",
      "Path to module it belongs to: C:\\Users\\David\\Desktop\\github\\ditto\\saved_modules\\controller\n",
      "Reusing saved file: 20240209045846.py\n",
      "\n",
      "Function being called: run\n",
      "Path to module it belongs to: C:\\Users\\David\\Desktop\\github\\ditto\\saved_modules\\get_data\n",
      "Reusing saved file: 20240209045846.py\n",
      "\n",
      "Function being called: run\n",
      "Path to module it belongs to: C:\\Users\\David\\Desktop\\github\\ditto\\saved_modules\\train_model\n",
      "Saving new file: 20240209045951.py\n",
      "\n",
      "Function being called: run\n",
      "Path to module it belongs to: C:\\Users\\David\\Desktop\\github\\ditto\\saved_modules\\evaluate_model\n",
      "Saving new file: 20240209045951.py\n",
      "\n",
      "Done!\n"
     ]
    },
    {
     "name": "stderr",
     "output_type": "stream",
     "text": [
      "C:\\Users\\David\\miniconda3\\envs\\mailchimp\\Lib\\site-packages\\sklearn\\linear_model\\_logistic.py:460: ConvergenceWarning: lbfgs failed to converge (status=1):\n",
      "STOP: TOTAL NO. of ITERATIONS REACHED LIMIT.\n",
      "\n",
      "Increase the number of iterations (max_iter) or scale the data as shown in:\n",
      "    https://scikit-learn.org/stable/modules/preprocessing.html\n",
      "Please also refer to the documentation for alternative solver options:\n",
      "    https://scikit-learn.org/stable/modules/linear_model.html#logistic-regression\n",
      "  n_iter_i = _check_optimize_result(\n"
     ]
    }
   ],
   "source": [
    "# Change the train_model and evaluate modules for Logistic Regression and run again\n",
    "controller.run()"
   ]
  },
  {
   "cell_type": "code",
   "execution_count": null,
   "id": "67cd2368-39be-43c8-8d07-aade1cbe4390",
   "metadata": {},
   "outputs": [],
   "source": []
  },
  {
   "cell_type": "code",
   "execution_count": null,
   "id": "f3907484-2f0f-4570-9887-02b3701aa863",
   "metadata": {},
   "outputs": [],
   "source": []
  },
  {
   "cell_type": "code",
   "execution_count": null,
   "id": "71918ddf-2be2-47ff-9b85-6bb61972ef43",
   "metadata": {},
   "outputs": [],
   "source": []
  }
 ],
 "metadata": {
  "kernelspec": {
   "display_name": "Python 3 (ipykernel)",
   "language": "python",
   "name": "python3"
  },
  "language_info": {
   "codemirror_mode": {
    "name": "ipython",
    "version": 3
   },
   "file_extension": ".py",
   "mimetype": "text/x-python",
   "name": "python",
   "nbconvert_exporter": "python",
   "pygments_lexer": "ipython3",
   "version": "3.11.0"
  }
 },
 "nbformat": 4,
 "nbformat_minor": 5
}
